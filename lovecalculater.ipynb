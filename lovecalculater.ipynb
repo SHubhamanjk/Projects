{
 "cells": [
  {
   "cell_type": "code",
   "execution_count": 35,
   "metadata": {},
   "outputs": [
    {
     "ename": "",
     "evalue": "",
     "output_type": "error",
     "traceback": [
      "\u001b[1;31mThe Kernel crashed while executing code in the current cell or a previous cell. \n",
      "\u001b[1;31mPlease review the code in the cell(s) to identify a possible cause of the failure. \n",
      "\u001b[1;31mClick <a href='https://aka.ms/vscodeJupyterKernelCrash'>here</a> for more info. \n",
      "\u001b[1;31mView Jupyter <a href='command:jupyter.viewOutput'>log</a> for further details."
     ]
    }
   ],
   "source": [
    "import random\n",
    "import tkinter as tk\n",
    "\n",
    "def calculate_result():\n",
    "    yn = name_entry.get()\n",
    "    pn = partner_entry.get()\n",
    "    result = random.randint(0, 100)\n",
    "\n",
    "    if result < 20:\n",
    "        result_text.set(\"Kuchh Nahi Ho Sakta!!!!\")\n",
    "    elif 20 <= result <= 40:\n",
    "        result_text.set(\"Try Karte Raho!!!!\")\n",
    "    elif 40 < result <= 60:\n",
    "        result_text.set(\"Chance Hai!!!\")\n",
    "    elif 60 < result <= 80:\n",
    "        result_text.set(\"Bas Ab Wait Khtm Hone Wala Hai!!!\")\n",
    "    elif result > 80:\n",
    "        result_text.set(\"Congratulation!!!!! Made For Each Other\")\n",
    "    else:\n",
    "        result_text.set(\"Ye To Us Moment Ho gya Bro!!\")\n",
    "    result_label.config(fg=\"Red\")\n",
    "\n",
    "\n",
    "root = tk.Tk()\n",
    "root.title(\"Love Calculator\")\n",
    "\n",
    "\n",
    "name_label = tk.Label(root, text=\"Enter Your Name\", font=(\"Arial\", 14))\n",
    "name_label.pack()\n",
    "name_entry = tk.Entry(root, font=(\"Arial\", 14))\n",
    "name_entry.pack()\n",
    "\n",
    "partner_label = tk.Label(root, text=\"Enter Your Partner's Name\", font=(\"Arial\", 14))\n",
    "partner_label.pack()\n",
    "partner_entry = tk.Entry(root, font=(\"Arial\", 14))\n",
    "partner_entry.pack()\n",
    "\n",
    "\n",
    "calculate_button = tk.Button(root, text=\"Show Result\", command=calculate_result, font=(\"Arial\", 14))\n",
    "calculate_button.pack()\n",
    "\n",
    "\n",
    "result_text = tk.StringVar()\n",
    "result_label = tk.Label(root, textvariable=result_text, font=(\"Arial\", 16))\n",
    "result_label.pack()\n",
    "\n",
    "\n",
    "root.mainloop()\n"
   ]
  }
 ],
 "metadata": {
  "kernelspec": {
   "display_name": "Python 3",
   "language": "python",
   "name": "python3"
  },
  "language_info": {
   "codemirror_mode": {
    "name": "ipython",
    "version": 3
   },
   "file_extension": ".py",
   "mimetype": "text/x-python",
   "name": "python",
   "nbconvert_exporter": "python",
   "pygments_lexer": "ipython3",
   "version": "3.12.0"
  }
 },
 "nbformat": 4,
 "nbformat_minor": 2
}
